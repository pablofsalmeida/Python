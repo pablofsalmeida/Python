{
 "cells": [
  {
   "cell_type": "markdown",
   "id": "bb0f9514",
   "metadata": {
    "id": "bb0f9514"
   },
   "source": [
    "# Lista de Estrutura Sequencial"
   ]
  },
  {
   "cell_type": "markdown",
   "id": "4e7a8c30",
   "metadata": {
    "id": "4e7a8c30"
   },
   "source": [
    "#### 1. Faça um Programa que mostre a mensagem (print) \"Alo mundo\" na tela."
   ]
  },
  {
   "cell_type": "code",
   "execution_count": 1,
   "id": "883bfe85",
   "metadata": {
    "id": "883bfe85"
   },
   "outputs": [
    {
     "name": "stdout",
     "output_type": "stream",
     "text": [
      "Olá Mundo!\n"
     ]
    }
   ],
   "source": [
    "print(\"Olá Mundo!\")"
   ]
  },
  {
   "cell_type": "markdown",
   "id": "71d6d6a2",
   "metadata": {
    "id": "71d6d6a2"
   },
   "source": [
    "#### 2. Faça um Programa que peça um número (input) e então mostre a mensagem: \"O número informado foi [número].\""
   ]
  },
  {
   "cell_type": "code",
   "execution_count": 4,
   "id": "30cfffcf",
   "metadata": {
    "id": "30cfffcf"
   },
   "outputs": [
    {
     "name": "stdout",
     "output_type": "stream",
     "text": [
      "O número digitado foi: 35\n",
      "o número digitado foi: 35\n",
      "o número digitado foi 35. \n",
      "o número digitado foi 35. \n"
     ]
    }
   ],
   "source": [
    "numero = input(\"Digite um número: \")\n",
    "print(\"O número digitado foi: \" + numero)\n",
    "print(\"o número digitado foi: \" + str(numero))\n",
    "print(\"o número digitado foi {}. \".format(numero))\n",
    "print(f\"o número digitado foi {numero}. \")"
   ]
  },
  {
   "cell_type": "markdown",
   "id": "c5e43160",
   "metadata": {
    "id": "c5e43160"
   },
   "source": [
    "#### 3. Faça um Programa que peça dois números e imprima a soma."
   ]
  },
  {
   "cell_type": "code",
   "execution_count": 12,
   "id": "b0e79590",
   "metadata": {
    "id": "b0e79590"
   },
   "outputs": [
    {
     "name": "stdout",
     "output_type": "stream",
     "text": [
      "A soma dos dois número foi 35.35. \n"
     ]
    }
   ],
   "source": [
    "numero1 = float(input(\"Digite um número: \"))\n",
    "numero2 = float(input(\"Digite o segundo número: \"))\n",
    "soma = numero1 + numero2\n",
    "print(f\"A soma dos dois número foi {soma}. \")"
   ]
  },
  {
   "cell_type": "markdown",
   "id": "17826987",
   "metadata": {
    "id": "17826987"
   },
   "source": [
    "#### 4. Faça um Programa que peça as 4 notas bimestrais de um aluno e mostre a média de todas as notas."
   ]
  },
  {
   "cell_type": "code",
   "execution_count": 11,
   "id": "23b66762",
   "metadata": {
    "id": "23b66762"
   },
   "outputs": [
    {
     "name": "stdout",
     "output_type": "stream",
     "text": [
      "A média das notas foi: 7.05. \n"
     ]
    }
   ],
   "source": [
    "nota1 = float(input('Informe a 1ª nota: '))\n",
    "nota2 = float(input('Informe a 2ª nota: '))\n",
    "nota3 = float(input('Informe a 3ª nota: '))\n",
    "nota4 = float(input('Informe a 4ª nota: '))\n",
    "\n",
    "media = (nota1 + nota2 + nota3 + nota4) / 4\n",
    "\n",
    "print(f\"A média das notas foi: {media}. \")"
   ]
  },
  {
   "cell_type": "markdown",
   "id": "62d461c5",
   "metadata": {
    "id": "62d461c5"
   },
   "source": [
    "#### 5. Faça um Programa que converta metros para centímetros. Você pode pedir o comprimento em metros para o usuário (input)."
   ]
  },
  {
   "cell_type": "code",
   "execution_count": 3,
   "id": "d642f1ba",
   "metadata": {
    "id": "d642f1ba"
   },
   "outputs": [
    {
     "name": "stdout",
     "output_type": "stream",
     "text": [
      "O comprimento em centímetros é: 1000.0 cm.\n"
     ]
    }
   ],
   "source": [
    "comprimento = float(input('Informe o comprimento em metros: '))\n",
    "converter = comprimento * 100\n",
    "print(f\"O comprimento em centímetros é: {converter} cm.\")"
   ]
  },
  {
   "cell_type": "markdown",
   "id": "f1311697",
   "metadata": {
    "id": "f1311697"
   },
   "source": [
    "#### 6. Faça um Programa que calcule a área de uma sala de um apartamento. Para isso, o seu programa precisa pedir a largura da sala, o comprimento da sala e imprimir a área em m² da sala."
   ]
  },
  {
   "cell_type": "code",
   "execution_count": 4,
   "id": "612ea24b",
   "metadata": {
    "id": "612ea24b"
   },
   "outputs": [
    {
     "name": "stdout",
     "output_type": "stream",
     "text": [
      "A área do terreno é: 28.0 m².\n"
     ]
    }
   ],
   "source": [
    "comprimento = float(input('Informe o comprimento em metros: '))\n",
    "largura = float(input('Informe a largura em metros: '))\n",
    "area = comprimento * largura\n",
    "print(f'A área do terreno é: {area} m².')"
   ]
  },
  {
   "cell_type": "markdown",
   "id": "2a285929",
   "metadata": {
    "id": "2a285929"
   },
   "source": [
    "#### 7. Faça um Programa que pergunte quanto você ganha por hora e o número de horas trabalhadas no mês. Calcule e mostre o total do seu salário no referido mês."
   ]
  },
  {
   "cell_type": "code",
   "execution_count": null,
   "id": "359e2232",
   "metadata": {
    "id": "359e2232"
   },
   "outputs": [
    {
     "name": "stdout",
     "output_type": "stream",
     "text": [
      "O salário total é: R$ 1584.0.\n"
     ]
    }
   ],
   "source": [
    "horas = float(input('Informe o número de horas trabalhadas: '))\n",
    "ganho = float(input('Informe o quanto ganha por hora trabalhadas R$/h: '))\n",
    "salario = horas * ganho\n",
    "print(f'O salário total é: R$ {salario}.')"
   ]
  },
  {
   "cell_type": "markdown",
   "id": "7e2d4615",
   "metadata": {
    "id": "7e2d4615"
   },
   "source": [
    "#### 8. Vamos criar um conversor de temperatura. Faça um Programa que peça a temperatura em graus Fahrenheit, transforme e mostre a temperatura em graus Celsius.\n",
    "$C = \\frac{5}{9}(F-32)$"
   ]
  },
  {
   "cell_type": "code",
   "execution_count": null,
   "id": "82daf9fd",
   "metadata": {
    "id": "82daf9fd"
   },
   "outputs": [
    {
     "name": "stdout",
     "output_type": "stream",
     "text": [
      "A temperatura em Celsius é: 24.44 °C.\n"
     ]
    }
   ],
   "source": [
    "temperatura = float(input('Informe a temperatura Fahrenheit: '))\n",
    "conversao = (temperatura - 32) * (5 / 9)\n",
    "print(f'A temperatura em Celsius é: {conversao:.2f} °C.') #esse :.2f limita a 2 casas decimais"
   ]
  },
  {
   "cell_type": "markdown",
   "id": "20708b1c",
   "metadata": {
    "id": "20708b1c"
   },
   "source": [
    "#### 9. Faça um Programa que peça a temperatura em graus Celsius, transforme e mostre em graus Fahrenheit.\n",
    "$F = \\frac{9}{5}C + 32$"
   ]
  },
  {
   "cell_type": "code",
   "execution_count": 13,
   "id": "c73cfb38",
   "metadata": {
    "id": "c73cfb38"
   },
   "outputs": [
    {
     "name": "stdout",
     "output_type": "stream",
     "text": [
      "A temperatura em Fahrenheit é: 78.80 °F.\n"
     ]
    }
   ],
   "source": [
    "temperatura = float(input('Informe a temperatura Celsius: '))\n",
    "conversao = (9/5)*temperatura + 32\n",
    "print(f'A temperatura em Fahrenheit é: {conversao:.2f} °F.') #esse :.2f limita a 2 casas decimais"
   ]
  },
  {
   "cell_type": "markdown",
   "id": "b263a9dc",
   "metadata": {
    "id": "b263a9dc"
   },
   "source": [
    "#### 10. Tendo como dados de entrada a altura (h) de uma pessoa, construa um algoritmo que calcule seu peso ideal, usando a seguinte fórmula:\n",
    "$P = 72,7h - 58$\n",
    "\n",
    "Lembrando que \"algoritmo\" nada mais é do que um programa, como todos os outros que você vem fazendo"
   ]
  },
  {
   "cell_type": "code",
   "execution_count": 14,
   "id": "9a9b8dca",
   "metadata": {
    "id": "9a9b8dca"
   },
   "outputs": [
    {
     "name": "stdout",
     "output_type": "stream",
     "text": [
      "Seu peso ideal é: 69.23 kg.\n"
     ]
    }
   ],
   "source": [
    "altura = float(input('Informe sua altura (m): '))\n",
    "peso_ideal = (72.7 * altura) - 58\n",
    "print(f'Seu peso ideal é: {peso_ideal:.2f} kg.') #esse :.2f limita a 2 casas decimais"
   ]
  },
  {
   "cell_type": "markdown",
   "id": "13bb40d7",
   "metadata": {
    "id": "13bb40d7"
   },
   "source": [
    "#### 11. Tendo como dado de entrada a altura (h) de uma pessoa, construa um algoritmo que calcule seu peso ideal, utilizando as seguintes fórmulas:\n",
    "##### a. Para homens: $P = 72,7h - 58$\n",
    "##### b. Para mulheres: $P = 62,1h - 44,7$"
   ]
  },
  {
   "cell_type": "code",
   "execution_count": 15,
   "id": "bf82dc8c",
   "metadata": {
    "id": "bf82dc8c"
   },
   "outputs": [
    {
     "name": "stdout",
     "output_type": "stream",
     "text": [
      "O peso ideal para homens é: 69.23 kg.\n",
      "O peso ideal para mulheres é: 63.97 kg.\n"
     ]
    }
   ],
   "source": [
    "altura = float(input('Informe sua altura (m): '))\n",
    "peso_ideal_homens = (72.7 * altura) - 58\n",
    "peso_ideal_mulheres = (62.1 * altura) - 44.7\n",
    "print(f'O peso ideal para homens é: {peso_ideal_homens:.2f} kg.') #esse :.2f limita a 2 casas decimais\n",
    "print(f'O peso ideal para mulheres é: {peso_ideal_mulheres:.2f} kg.') #esse :.2f limita a 2 casas decimais"
   ]
  },
  {
   "cell_type": "markdown",
   "id": "f208ef89",
   "metadata": {
    "id": "f208ef89"
   },
   "source": [
    "#### 12. Faça um Programa que pergunte quanto você ganha por hora e o número de horas trabalhadas no mês."
   ]
  },
  {
   "cell_type": "code",
   "execution_count": 16,
   "id": "2d5b23e0",
   "metadata": {
    "id": "2d5b23e0"
   },
   "outputs": [],
   "source": [
    "horas = float(input('Informe o número de horas trabalhadas: '))\n",
    "ganho = float(input('Informe o quanto ganha por hora trabalhadas R$/h: '))"
   ]
  },
  {
   "cell_type": "markdown",
   "id": "607dee3c",
   "metadata": {
    "id": "607dee3c"
   },
   "source": [
    "#####  Calcule o salário bruto (horas * salario por hora)"
   ]
  },
  {
   "cell_type": "code",
   "execution_count": 17,
   "id": "7f80ccbb",
   "metadata": {
    "id": "7f80ccbb"
   },
   "outputs": [
    {
     "name": "stdout",
     "output_type": "stream",
     "text": [
      "O salário total é: R$ 3520.0.\n"
     ]
    }
   ],
   "source": [
    "salario = horas * ganho\n",
    "print(f'O salário total é: R$ {salario}.')"
   ]
  },
  {
   "cell_type": "markdown",
   "id": "2ed93cb0",
   "metadata": {
    "id": "2ed93cb0"
   },
   "source": [
    "##### Calcule o desconto do IR (11% do salário bruto)"
   ]
  },
  {
   "cell_type": "code",
   "execution_count": 18,
   "id": "3363e22f",
   "metadata": {
    "id": "3363e22f"
   },
   "outputs": [
    {
     "name": "stdout",
     "output_type": "stream",
     "text": [
      "O desconto IR é: R$ 387.2.\n"
     ]
    }
   ],
   "source": [
    "desconto = salario * (11/100)\n",
    "print(f'O desconto IR é: R$ {desconto}.')"
   ]
  },
  {
   "cell_type": "markdown",
   "id": "0994b2c0",
   "metadata": {
    "id": "0994b2c0"
   },
   "source": [
    "##### Calcule o desconto do INSS (8% do salário bruto)"
   ]
  },
  {
   "cell_type": "code",
   "execution_count": 19,
   "id": "748c6088",
   "metadata": {
    "id": "748c6088"
   },
   "outputs": [
    {
     "name": "stdout",
     "output_type": "stream",
     "text": [
      "O desconto INSS é: R$ 281.6.\n"
     ]
    }
   ],
   "source": [
    "desconto2 = salario * (8/100)\n",
    "print(f'O desconto INSS é: R$ {desconto2}.')"
   ]
  },
  {
   "cell_type": "markdown",
   "id": "06e8dae4",
   "metadata": {
    "id": "06e8dae4"
   },
   "source": [
    "##### Calcule o desconto do sindicato (5% do salário bruto)"
   ]
  },
  {
   "cell_type": "code",
   "execution_count": 20,
   "id": "21b95b15",
   "metadata": {
    "id": "21b95b15",
    "scrolled": true
   },
   "outputs": [
    {
     "name": "stdout",
     "output_type": "stream",
     "text": [
      "O desconto Sindicato é: R$ 176.0.\n"
     ]
    }
   ],
   "source": [
    "desconto3 = salario * (5/100)\n",
    "print(f'O desconto Sindicato é: R$ {desconto3}.')"
   ]
  },
  {
   "cell_type": "markdown",
   "id": "bb14ce36",
   "metadata": {
    "id": "bb14ce36"
   },
   "source": [
    "##### Calcule o salário líquido (salário bruto - descontos)"
   ]
  },
  {
   "cell_type": "code",
   "execution_count": 21,
   "id": "56317086",
   "metadata": {
    "id": "56317086"
   },
   "outputs": [
    {
     "name": "stdout",
     "output_type": "stream",
     "text": [
      "O desconto total é: R$ 844.8.\n",
      "O salário líquido é: R$ 2675.2.\n"
     ]
    }
   ],
   "source": [
    "desconto_total = desconto + desconto2 + desconto3\n",
    "print(f'O desconto total é: R$ {desconto_total}.')\n",
    "salario_liquido = salario - desconto_total\n",
    "print(f'O salário líquido é: R$ {salario_liquido}.')"
   ]
  },
  {
   "cell_type": "markdown",
   "id": "cfbfcc87",
   "metadata": {
    "id": "cfbfcc87"
   },
   "source": [
    "#### 13. Faça um programa para uma loja de tintas. O programa deverá pedir o tamanho em metros quadrados da área a ser pintada. Considere que a cobertura da tinta é de 1 litro para cada 3 metros quadrados e que a tinta é vendida em latas de 18 litros, que custam R\\$ 80,00. Informe ao usuário a quantidades de latas de tinta a serem compradas e o preço total. (para simplificação nesse momento, não se preocupe em arredondar a quantidade de latas a serem compradas - vamos trabalhar isso em breve)"
   ]
  },
  {
   "cell_type": "code",
   "execution_count": 25,
   "id": "fb6a083b",
   "metadata": {
    "id": "fb6a083b"
   },
   "outputs": [
    {
     "name": "stdout",
     "output_type": "stream",
     "text": [
      "Serão necessárias 0.46 latas de tinta. Custando R$37.04\n"
     ]
    }
   ],
   "source": [
    "metro_quadrado = float(input('Informe a área a ser pintada em m²: '))\n",
    "desempenho_litro = metro_quadrado / 3\n",
    "latas_necessarias = desempenho_litro / 18\n",
    "custo_total = latas_necessarias * 80\n",
    "print(f'Serão necessárias {latas_necessarias:.2f} latas de tinta. Custando R${custo_total:.2f}') #esse :.2f limita a 2 casas decimais"
   ]
  },
  {
   "cell_type": "markdown",
   "id": "d6503c92",
   "metadata": {
    "id": "d6503c92"
   },
   "source": [
    "#### 14. Faça um programa que peça o tamanho de um arquivo para download (em MB) e a velocidade de um link de Internet (em Mbps), calcule e informe o tempo aproximado de download do arquivo usando este link (em minutos).\n",
    "\n",
    "Detalhe: MB significa megabyte, Mb (com b minúsculo) significa megabit. Um megabit é 1/8 de um megabyte. "
   ]
  },
  {
   "cell_type": "code",
   "execution_count": 29,
   "id": "0563aa62",
   "metadata": {
    "id": "0563aa62"
   },
   "outputs": [
    {
     "name": "stdout",
     "output_type": "stream",
     "text": [
      "O tempo aproximado de download é: 0.06 minutos.\n"
     ]
    }
   ],
   "source": [
    "arquivo = float(input('Informe o tamanho do arquivo em MB: '))\n",
    "velocidade = float(input('Informe a velocidade da internet em Mbps: '))\n",
    "\n",
    "tamanho_Mb = arquivo*8\n",
    "\n",
    "tempo_segundos = tamanho_Mb/velocidade\n",
    "tempo_minutos = tempo_segundos/60\n",
    "\n",
    "print(f'O tempo aproximado de download é: {tempo_minutos:.2f} minutos.') #esse :.2f limita a 2 casas decimais"
   ]
  }
 ],
 "metadata": {
  "colab": {
   "provenance": []
  },
  "kernelspec": {
   "display_name": "Python 3",
   "language": "python",
   "name": "python3"
  },
  "language_info": {
   "codemirror_mode": {
    "name": "ipython",
    "version": 3
   },
   "file_extension": ".py",
   "mimetype": "text/x-python",
   "name": "python",
   "nbconvert_exporter": "python",
   "pygments_lexer": "ipython3",
   "version": "3.13.7"
  }
 },
 "nbformat": 4,
 "nbformat_minor": 5
}
