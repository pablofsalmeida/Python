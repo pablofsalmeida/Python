{
 "cells": [
  {
   "cell_type": "markdown",
   "id": "a7222466",
   "metadata": {},
   "source": [
    "### F-string"
   ]
  },
  {
   "cell_type": "markdown",
   "id": "1046ec96",
   "metadata": {},
   "source": [
    "É uma versão melhorada do format(). A diferença aqui é o \"f\" antes do texto, e no decorrer o texto, caso necessite de alguma variável, vai manter o \"{}\" com uma distinção, a variável vai dentro das chaves."
   ]
  },
  {
   "cell_type": "code",
   "execution_count": 3,
   "id": "66c75af4",
   "metadata": {},
   "outputs": [
    {
     "name": "stdout",
     "output_type": "stream",
     "text": [
      "O faturamento foi de 1000 e o lucro de 600\n",
      "O faturamento foi de 1000 e o lucro de 600\n"
     ]
    }
   ],
   "source": [
    "faturamento = 1000\n",
    "custo = 400\n",
    "\n",
    "lucro = faturamento - custo\n",
    "\n",
    "# com format\n",
    "print(\"O faturamento foi de {} e o lucro de {}\".format(faturamento, lucro))\n",
    "\n",
    "# com f-string\n",
    "print(f\"O faturamento foi de {faturamento} e o lucro de {lucro}\")\n"
   ]
  },
  {
   "cell_type": "markdown",
   "id": "917d7cc5",
   "metadata": {},
   "source": [
    "### Mudança de tipo de variável"
   ]
  },
  {
   "cell_type": "code",
   "execution_count": 4,
   "id": "3c7c40e7",
   "metadata": {},
   "outputs": [
    {
     "name": "stdout",
     "output_type": "stream",
     "text": [
      "600\n"
     ]
    }
   ],
   "source": [
    "faturamento = input(\"Insira o faturamento\")\n",
    "custo = input(\"Insira o custo\")\n",
    "\n",
    "#lucro = faturamento - custo\n",
    "\n",
    "print(lucro)\n",
    "\n",
    "# str -> muda para string\n",
    "# int -> muda para inteiro\n",
    "# float -> muda para float"
   ]
  },
  {
   "cell_type": "markdown",
   "id": "e2a4e3fe",
   "metadata": {},
   "source": [
    "\"TypeError: unsupported operand type(s) for -: 'str' and 'str'\" o código acima, sem o '#' dá esse erro devido o input. Todo input é obrigatóriamente uma string."
   ]
  },
  {
   "cell_type": "code",
   "execution_count": 6,
   "id": "7127be45",
   "metadata": {},
   "outputs": [
    {
     "name": "stdout",
     "output_type": "stream",
     "text": [
      "<class 'str'>\n",
      "<class 'str'>\n",
      "600\n",
      "<class 'int'>\n",
      "<class 'int'>\n",
      "900\n",
      "<class 'float'>\n",
      "<class 'float'>\n",
      "400.04999999999995\n"
     ]
    }
   ],
   "source": [
    "# str -> muda para string\n",
    "faturamento = input(\"Insira o faturamento\")\n",
    "custo = input(\"Insira o custo\")\n",
    "print(type(faturamento))\n",
    "print(type(custo))\n",
    "#lucro = faturamento - custo\n",
    "\n",
    "print(lucro)\n",
    "# int -> muda para inteiro\n",
    "faturamento = int(input(\"Insira o faturamento\"))\n",
    "custo = int(input(\"Insira o custo\"))\n",
    "print(type(faturamento))\n",
    "print(type(custo))\n",
    "lucro = faturamento - custo\n",
    "\n",
    "print(lucro)\n",
    "# float -> muda para float\n",
    "\n",
    "faturamento = float(input(\"Insira o faturamento\"))\n",
    "custo = float(input(\"Insira o custo\"))\n",
    "print(type(faturamento))\n",
    "print(type(custo))\n",
    "lucro = faturamento - custo\n",
    "\n",
    "print(lucro)"
   ]
  }
 ],
 "metadata": {
  "kernelspec": {
   "display_name": "Python 3",
   "language": "python",
   "name": "python3"
  },
  "language_info": {
   "codemirror_mode": {
    "name": "ipython",
    "version": 3
   },
   "file_extension": ".py",
   "mimetype": "text/x-python",
   "name": "python",
   "nbconvert_exporter": "python",
   "pygments_lexer": "ipython3",
   "version": "3.13.7"
  }
 },
 "nbformat": 4,
 "nbformat_minor": 5
}
