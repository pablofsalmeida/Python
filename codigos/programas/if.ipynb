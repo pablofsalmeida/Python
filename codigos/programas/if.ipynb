{
 "cells": [
  {
   "cell_type": "markdown",
   "id": "c67c6283",
   "metadata": {},
   "source": [
    "## Condições > IF/ELIF/Else\n",
    "\n",
    "### Estrutura: \n",
    "\n",
    "#### Uso mais simples: \n",
    "\n",
    "~~~~python\n",
    "if condição:\n",
    "    o que fazer caso a condição seja verdadeira\n",
    "else:\n",
    "    o que fazer caso a condição seja falsa\n",
    "~~~~"
   ]
  },
  {
   "cell_type": "code",
   "execution_count": 37,
   "id": "b5ec7861",
   "metadata": {},
   "outputs": [
    {
     "name": "stdout",
     "output_type": "stream",
     "text": [
      "Aqui se a condição for verdadeira\n"
     ]
    }
   ],
   "source": [
    "meta = 50000\n",
    "qtde_vendida = 65300\n",
    "if qtde_vendida >= meta:\n",
    "    print(f'Aqui se a condição for verdadeira')\n",
    "else:\n",
    "    print(f'Aqui se a condição for falsa')"
   ]
  },
  {
   "cell_type": "code",
   "execution_count": 38,
   "id": "2acb4ac7",
   "metadata": {},
   "outputs": [
    {
     "name": "stdout",
     "output_type": "stream",
     "text": [
      "Batemos a meta de vendas de IPhones, vendemos 65000.0 unidades!\n"
     ]
    }
   ],
   "source": [
    "meta = float(input('Qual é a meta de vendas de IPhone do mês?')) #50000\n",
    "qtde_vendida = float(input('Qual foi a quantidade vendida?')) #65300\n",
    "if qtde_vendida >= meta:\n",
    "    print(f'Batemos a meta de vendas de IPhones, vendemos {qtde_vendida} unidades!')\n",
    "else:\n",
    "    print(f'Infelizmente não batemos a meta, vendemos apenas {qtde_vendida} unidades. A meta era de {meta} unidades')"
   ]
  },
  {
   "cell_type": "markdown",
   "id": "7b5d0f0d",
   "metadata": {},
   "source": [
    "### Blocos e Identação\n",
    "\n",
    "#### Estrutura\n",
    "\n",
    "Sempre que usamos o if ou qualquer outra estrutura no Python, devemos usar a identação para dizer para o programa onde a estrutura começa e onde ela termina. \n",
    "\n",
    "##### Várias ações em 1 if \n",
    "\n",
    "~~~~python \n",
    "if condicao:\n",
    "    alguma coisa\n",
    "    outra coisa\n",
    "    outra coisa mais\n",
    "else:\n",
    "    uma coisa \n",
    "    outra coisa mais\n",
    "    coisa final\n",
    "~~~~\n",
    "\n",
    "##### Mais de uma condição ao mesmo tempo if \n",
    "\n",
    "~~~~python \n",
    "if condicao_1:\n",
    "    o que fazer se a condição_1 ser verdadeira \n",
    "    if condicao_2:\n",
    "        o que fazer se a condicao_1 e condicao_2 forem verdadeiras\n",
    "    else:\n",
    "        o que fazer se a condicao_1 ser verdadeira e condicao_2 ser falsa\n",
    "else:\n",
    "    o que fazer se a condicao_1 ser falsa\n",
    "~~~~"
   ]
  },
  {
   "cell_type": "markdown",
   "id": "eedba352",
   "metadata": {},
   "source": [
    "### Exemplo"
   ]
  },
  {
   "cell_type": "code",
   "execution_count": 39,
   "id": "22920b7e",
   "metadata": {},
   "outputs": [
    {
     "name": "stdout",
     "output_type": "stream",
     "text": [
      "Rendimento de 10.0%, taxa de 2.0%\n"
     ]
    }
   ],
   "source": [
    "meta = 0.05\n",
    "taxa = 0\n",
    "rendimento = 0.10\n",
    "\n",
    "if rendimento > meta:\n",
    "    if rendimento > 0.2:\n",
    "        taxa = 0.04\n",
    "        print(f'Rendimento de {rendimento*100}%, taxa de {taxa*100}%')\n",
    "    else:\n",
    "        taxa = 0.02\n",
    "        print(f'Rendimento de {rendimento*100}%, taxa de {taxa*100}%')\n",
    "else:\n",
    "    taxa = 0\n",
    "    print(f'Rendimento de {rendimento*100}%, taxa de {taxa*100}%')"
   ]
  },
  {
   "cell_type": "markdown",
   "id": "7b3d0d51",
   "metadata": {},
   "source": [
    "## ELIF\n",
    "\n",
    "E se temos mais do que um caso de sim ou não? E se tivermos 3 casos?\n",
    "Usamos o elif da seguinte forma: \n",
    "\n",
    "~~~~python \n",
    "if condicao_1:\n",
    "    o que fazer se a condição_1 ser verdadeira \n",
    "elif condicao_2:\n",
    "    o que fazer se a condicao_1 ser falsa e condicao_2 ser verdadeira\n",
    "else:\n",
    "    o que fazer se a condicao_1 condicao_2 forem falsas\n",
    "~~~~"
   ]
  },
  {
   "cell_type": "markdown",
   "id": "26e72f48",
   "metadata": {},
   "source": [
    "### Exemplo"
   ]
  },
  {
   "cell_type": "code",
   "execution_count": 40,
   "id": "4106729d",
   "metadata": {},
   "outputs": [
    {
     "name": "stdout",
     "output_type": "stream",
     "text": [
      "Ganhou 2870.00 de bônus!\n"
     ]
    }
   ],
   "source": [
    "meta = 20000\n",
    "vendas = 41000\n",
    "\n",
    "if vendas > meta and vendas <= (meta *2):\n",
    "    bonus = vendas * 0.03\n",
    "    print('Ganhou {:.2f} de bônus!'.format(bonus))\n",
    "elif vendas > (meta *2):\n",
    "    bonus = vendas * 0.07\n",
    "    print('Ganhou {:.2f} de bônus!'.format(bonus))\n",
    "else:\n",
    "    print('Não bateu a meta')   "
   ]
  }
 ],
 "metadata": {
  "kernelspec": {
   "display_name": "Python 3",
   "language": "python",
   "name": "python3"
  },
  "language_info": {
   "codemirror_mode": {
    "name": "ipython",
    "version": 3
   },
   "file_extension": ".py",
   "mimetype": "text/x-python",
   "name": "python",
   "nbconvert_exporter": "python",
   "pygments_lexer": "ipython3",
   "version": "3.13.7"
  }
 },
 "nbformat": 4,
 "nbformat_minor": 5
}
