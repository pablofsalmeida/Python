{
 "cells": [
  {
   "cell_type": "markdown",
   "id": "8932d426",
   "metadata": {},
   "source": [
    "Operações"
   ]
  },
  {
   "cell_type": "code",
   "execution_count": 10,
   "id": "d6dafc9e",
   "metadata": {},
   "outputs": [
    {
     "name": "stdout",
     "output_type": "stream",
     "text": [
      "Soma\n",
      "2\n",
      "Multiplicação\n",
      "4\n",
      "Divisão\n",
      "2.0\n",
      "Subtração\n",
      "3\n",
      "Módulo\n",
      "1\n",
      "Potência\n",
      "8\n"
     ]
    }
   ],
   "source": [
    "print(\"Soma\")\n",
    "print(1+1)\n",
    "print(\"Multiplicação\")\n",
    "print(2*2)\n",
    "print(\"Divisão\")\n",
    "print(4/2)\n",
    "print(\"Subtração\")\n",
    "print(5-2)\n",
    "print(\"Módulo\")\n",
    "print(10%3)\n",
    "print(\"Potência\")\n",
    "print(2**3)"
   ]
  }
 ],
 "metadata": {
  "kernelspec": {
   "display_name": "Python 3",
   "language": "python",
   "name": "python3"
  },
  "language_info": {
   "codemirror_mode": {
    "name": "ipython",
    "version": 3
   },
   "file_extension": ".py",
   "mimetype": "text/x-python",
   "name": "python",
   "nbconvert_exporter": "python",
   "pygments_lexer": "ipython3",
   "version": "3.13.7"
  }
 },
 "nbformat": 4,
 "nbformat_minor": 5
}
