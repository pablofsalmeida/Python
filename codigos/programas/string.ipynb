{
 "cells": [
  {
   "cell_type": "markdown",
   "id": "0468c7ed",
   "metadata": {},
   "source": [
    "String"
   ]
  },
  {
   "cell_type": "code",
   "execution_count": 17,
   "id": "c9ae5741",
   "metadata": {},
   "outputs": [
    {
     "name": "stdout",
     "output_type": "stream",
     "text": [
      "meu nome é pablo\n",
      "meu nome é pablo\n"
     ]
    }
   ],
   "source": [
    "print(\"meu nome é pablo\")\n",
    "print('meu nome é pablo')"
   ]
  },
  {
   "cell_type": "markdown",
   "id": "eefb1277",
   "metadata": {},
   "source": [
    "Concatenar"
   ]
  },
  {
   "cell_type": "code",
   "execution_count": 18,
   "id": "cf8b6a4c",
   "metadata": {},
   "outputs": [
    {
     "name": "stdout",
     "output_type": "stream",
     "text": [
      "meu nome é pablo\n"
     ]
    }
   ],
   "source": [
    "print(\"meu nome é \" + 'pablo')"
   ]
  },
  {
   "cell_type": "markdown",
   "id": "fb5c96ad",
   "metadata": {},
   "source": [
    "Verificar se um texto está contido em outro texto. Obs: essa verificação é dada por Case Sensitive, ou seja, o maiusculo e minusculo faz diferença."
   ]
  },
  {
   "cell_type": "code",
   "execution_count": 19,
   "id": "bd6eebc6",
   "metadata": {},
   "outputs": [
    {
     "name": "stdout",
     "output_type": "stream",
     "text": [
      "False\n"
     ]
    }
   ],
   "source": [
    "print(\"meu nome é \" in 'pablo')"
   ]
  },
  {
   "cell_type": "code",
   "execution_count": 20,
   "id": "d7c7e2ce",
   "metadata": {},
   "outputs": [
    {
     "name": "stdout",
     "output_type": "stream",
     "text": [
      "True\n"
     ]
    }
   ],
   "source": [
    "print(\"pablo\" in 'meu nome é pablo')"
   ]
  }
 ],
 "metadata": {
  "kernelspec": {
   "display_name": "Python 3",
   "language": "python",
   "name": "python3"
  },
  "language_info": {
   "codemirror_mode": {
    "name": "ipython",
    "version": 3
   },
   "file_extension": ".py",
   "mimetype": "text/x-python",
   "name": "python",
   "nbconvert_exporter": "python",
   "pygments_lexer": "ipython3",
   "version": "3.13.7"
  }
 },
 "nbformat": 4,
 "nbformat_minor": 5
}
