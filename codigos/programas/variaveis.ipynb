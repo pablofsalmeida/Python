{
 "cells": [
  {
   "cell_type": "markdown",
   "id": "ab254e55",
   "metadata": {},
   "source": [
    "VARIÁVEIS"
   ]
  },
  {
   "cell_type": "code",
   "execution_count": 13,
   "id": "382924b0",
   "metadata": {},
   "outputs": [
    {
     "name": "stdout",
     "output_type": "stream",
     "text": [
      "O vendedor Pablo realizou 1800 vendas neste mês.\n"
     ]
    }
   ],
   "source": [
    "qtde_vendas = 1800\n",
    "nome = \"Pablo\"\n",
    "\n",
    "print(\"O vendedor \" + nome + \" realizou \" + str(qtde_vendas) + \" vendas neste mês.\")"
   ]
  },
  {
   "cell_type": "markdown",
   "id": "c4458d6b",
   "metadata": {},
   "source": [
    "Se uma célula depende de outra, devemos rodar a primeira com os valores importantes para depois rodar a segunda."
   ]
  },
  {
   "cell_type": "code",
   "execution_count": 14,
   "id": "791898f2",
   "metadata": {},
   "outputs": [],
   "source": [
    "faturamento = 150\n",
    "custo = 60"
   ]
  },
  {
   "cell_type": "markdown",
   "id": "c2f9deee",
   "metadata": {},
   "source": [
    "A célula seguinte só vai funcionar/rodar depois que a de cima rodar primeiro. A opção de rodar tudo, todas as células, resolve o problema."
   ]
  },
  {
   "cell_type": "code",
   "execution_count": 15,
   "id": "0cdab3b8",
   "metadata": {},
   "outputs": [
    {
     "name": "stdout",
     "output_type": "stream",
     "text": [
      "O lucro foi de 90 reais.\n"
     ]
    }
   ],
   "source": [
    "lucro = faturamento - custo\n",
    "print(\"O lucro foi de \" + str(lucro) + \" reais.\")"
   ]
  }
 ],
 "metadata": {
  "kernelspec": {
   "display_name": "Python 3",
   "language": "python",
   "name": "python3"
  },
  "language_info": {
   "codemirror_mode": {
    "name": "ipython",
    "version": 3
   },
   "file_extension": ".py",
   "mimetype": "text/x-python",
   "name": "python",
   "nbconvert_exporter": "python",
   "pygments_lexer": "ipython3",
   "version": "3.13.7"
  }
 },
 "nbformat": 4,
 "nbformat_minor": 5
}
