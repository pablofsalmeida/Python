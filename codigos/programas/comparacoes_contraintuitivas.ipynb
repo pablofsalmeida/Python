{
 "cells": [
  {
   "cell_type": "markdown",
   "id": "4106caca",
   "metadata": {},
   "source": [
    "## Comprações Contraintuitivas\n",
    "\n",
    "Existem algumas comparações no Python que não são tão intuitivas quando vendos pela primeira vez, mas que são muito usadas, principalmente por programadores mais experientes. \n",
    "\n",
    "É bom sabermos alguns exemplos e buscar sempre entender o que aquela comparação está buscando verificar. \n",
    "\n",
    "### Exemplo 1:\n",
    "\n",
    "Digamos que você está construindo um sistema de controle de vendas e precisa de algumas informações para fazer o cálculo do resultado da loja no fim do mês."
   ]
  },
  {
   "cell_type": "code",
   "execution_count": null,
   "id": "0c43873b",
   "metadata": {},
   "outputs": [],
   "source": [
    "faturamento = input('Qual foi o faturamento da loja nesse mês?')\n",
    "custo = input('Qual foi o custo da loja nesse mês?')\n",
    "# 1 if faturamento and custo: nesse campo estou verificando se a variável faturamento tem algum valor, se tiver algum valor diferente de vazio, 0, False, None, etc, o if retorna True\n",
    "#lucro = float(faturamento) - float(custo)\n",
    "#   print(f'O lucro da loja foi de R$ {lucro:.2f}')\n",
    "# else: \n",
    "#   print('Você deixou algum campo vazio, por favor preencha todos os campos')\n",
    "   # exit()\n",
    "#2\n",
    "if faturamento == '' or custo == '':\n",
    "    print('Você deixou algum campo vazio, por favor preencha todos os campos')\n",
    "    exit()\n",
    "else:\n",
    "    lucro = float(faturamento) - float(custo)\n",
    "    print(f'O lucro da loja foi de R$ {lucro:.2f}')"
   ]
  },
  {
   "cell_type": "markdown",
   "id": "2d16253f",
   "metadata": {},
   "source": [
    "### Resumo \n",
    "\n",
    "Algumas comprações contraintuitivas muito usadas: if 0: / if '':\n",
    "\n",
    "Tem outras também, mas que são usadas para verificar liastas vazias, dicionários vazios, objetos vazios e assim por diante. Quando chegarmos nesses tópicos vamos relembrar esse conceito,, mas o importante é saber dessa possibilidade  e entender seu uso."
   ]
  }
 ],
 "metadata": {
  "kernelspec": {
   "display_name": "Python 3",
   "language": "python",
   "name": "python3"
  },
  "language_info": {
   "codemirror_mode": {
    "name": "ipython",
    "version": 3
   },
   "file_extension": ".py",
   "mimetype": "text/x-python",
   "name": "python",
   "nbconvert_exporter": "python",
   "pygments_lexer": "ipython3",
   "version": "3.13.7"
  }
 },
 "nbformat": 4,
 "nbformat_minor": 5
}
