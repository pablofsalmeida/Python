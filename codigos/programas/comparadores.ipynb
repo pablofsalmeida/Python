{
 "cells": [
  {
   "cell_type": "markdown",
   "id": "64d6b0a8",
   "metadata": {},
   "source": [
    "## Comparadores"
   ]
  },
  {
   "cell_type": "markdown",
   "id": "5b832d0c",
   "metadata": {
    "vscode": {
     "languageId": "raw"
    }
   },
   "source": [
    "### Operadores de Comparação\n",
    "~~~~python\n",
    "== igual \n",
    "!= diferente\n",
    "> maior que \n",
    ">= maior ou igual \n",
    "<= menor ou igual\n",
    "< menor que \n",
    "in texto existe dentro de outro texto \n",
    "not verifica o contrário da comparação \n",
    "\n",
    "Obs: se em alguma condição você não quiser fazer nada, você pode simplesmente escrever: pass\n"
   ]
  },
  {
   "cell_type": "code",
   "execution_count": 3,
   "id": "9e7dfd6a",
   "metadata": {},
   "outputs": [
    {
     "name": "stdout",
     "output_type": "stream",
     "text": [
      "Programa 1\n",
      "Os faturamentos são iguais\n"
     ]
    }
   ],
   "source": [
    "faturamento_loja1 = float(input(\"Digite o faturamento da loja 1: \"))\n",
    "faturamento_loja2 = float(input(\"Digite o faturamento da loja 2: \"))\n",
    "email = input(\"Digite o email: \")\n",
    "print(\"Programa 1\")\n",
    "if faturamento_loja1 == faturamento_loja2:\n",
    "    print(\"Os faturamentos são iguais\")\n",
    "else:\n",
    "    print(\"Os faturamentos são diferentes\")"
   ]
  },
  {
   "cell_type": "code",
   "execution_count": 4,
   "id": "f9168e3c",
   "metadata": {},
   "outputs": [
    {
     "name": "stdout",
     "output_type": "stream",
     "text": [
      "Programa 2\n",
      "Email correto\n"
     ]
    }
   ],
   "source": [
    "print(\"Programa 2\")\n",
    "if email == 'pablofsalmeida.7@gmail.com':\n",
    "    print(\"Email correto\")\n",
    "else:\n",
    "    print(\"Email incorreto\")\n"
   ]
  },
  {
   "cell_type": "code",
   "execution_count": 6,
   "id": "0227ebce",
   "metadata": {},
   "outputs": [
    {
     "name": "stdout",
     "output_type": "stream",
     "text": [
      "Programa 3\n"
     ]
    }
   ],
   "source": [
    "print(\"Programa 3\")\n",
    "if not '@' in email:\n",
    "    print(\"Email inválido\")\n",
    "else:\n",
    "    pass\n",
    "    #print(\"Email válido\")"
   ]
  },
  {
   "cell_type": "markdown",
   "id": "bc28ca28",
   "metadata": {},
   "source": [
    "### Casos com várias condições/comparações\n",
    "\n",
    "#### Estrutura: \n",
    "Quando temos várias comprações, ao invés de criar if dentro de if, podemos usar os operadores \"and\" e \"or\" para tratar essas condições. \n",
    "Funciona assim: \n",
    "\n",
    "~~~~python\n",
    "if condicao1 and condicao2:\n",
    "    vai ser executado se as duas condiçõesforem verdadeiras ao mesmo tempo\n",
    "outro caso\n",
    "if condicao1 or condicao2:\n",
    "    vai ser executado se pelo menos uma das condições forem verdadeiras\n",
    "\n"
   ]
  },
  {
   "cell_type": "markdown",
   "id": "74594186",
   "metadata": {},
   "source": [
    "### Exemplos"
   ]
  },
  {
   "cell_type": "code",
   "execution_count": 11,
   "id": "7ca7bda6",
   "metadata": {},
   "outputs": [
    {
     "name": "stdout",
     "output_type": "stream",
     "text": [
      "Programa 4\n",
      "Funcionário não bateu a meta ou a loja não bateu a meta\n"
     ]
    }
   ],
   "source": [
    "print(\"Programa 4\")\n",
    "meta_funcionario = 10000\n",
    "meta_loja = 250000\n",
    "vendas_funcionario = float(input(\"Digite o valor das vendas do funcionário: \"))#15000\n",
    "vendas_loja = float(input(\"Digite o valor das vendas da loja: \"))#200000\n",
    "if vendas_funcionario >= meta_funcionario and vendas_loja >= meta_loja:\n",
    "    bonus = 0.03 * vendas_funcionario\n",
    "    print(f\"Bônus do funcionário foi de R$ {bonus:.2f}\")\n",
    "else:\n",
    "    print(\"Funcionário não bateu a meta ou a loja não bateu a meta\")"
   ]
  },
  {
   "cell_type": "code",
   "execution_count": 15,
   "id": "cbe6e012",
   "metadata": {},
   "outputs": [
    {
     "name": "stdout",
     "output_type": "stream",
     "text": [
      "Programa 5\n",
      "Bônus do funcionário foi de R$ 450.00\n"
     ]
    }
   ],
   "source": [
    "print(\"Programa 5\")\n",
    "nota_funcionario = float(input(\"Digite a nota do funcionário: \"))#8.5\n",
    "meta_nota = 9.0\n",
    "if nota_funcionario >= meta_nota or (vendas_funcionario >= meta_funcionario and vendas_loja >= meta_loja):\n",
    "    bonus = 0.03 * vendas_funcionario\n",
    "    print(f\"Bônus do funcionário foi de R$ {bonus:.2f}\")\n",
    "else:\n",
    "    print(\"Funcionário não ganhou bônus\")"
   ]
  }
 ],
 "metadata": {
  "kernelspec": {
   "display_name": "Python 3",
   "language": "python",
   "name": "python3"
  },
  "language_info": {
   "codemirror_mode": {
    "name": "ipython",
    "version": 3
   },
   "file_extension": ".py",
   "mimetype": "text/x-python",
   "name": "python",
   "nbconvert_exporter": "python",
   "pygments_lexer": "ipython3",
   "version": "3.13.7"
  }
 },
 "nbformat": 4,
 "nbformat_minor": 5
}
