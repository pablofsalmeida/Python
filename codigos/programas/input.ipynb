{
 "cells": [
  {
   "cell_type": "markdown",
   "id": "58a32056",
   "metadata": {},
   "source": [
    "INPUT - pegando dados do user. Aqui no VSCODE, o input abre uma caixa de dialogo no campo de busca no campo superior"
   ]
  },
  {
   "cell_type": "code",
   "execution_count": 2,
   "id": "75ef17b1",
   "metadata": {},
   "outputs": [
    {
     "name": "stdout",
     "output_type": "stream",
     "text": [
      "Olá, Pablo!\n"
     ]
    }
   ],
   "source": [
    "nome = input(\"Qual o seu nome? \")\n",
    "print(\"Olá, \" + nome + \"!\")"
   ]
  },
  {
   "cell_type": "code",
   "execution_count": 6,
   "id": "6629b353",
   "metadata": {},
   "outputs": [
    {
     "name": "stdout",
     "output_type": "stream",
     "text": [
      "O faturamento da empresa é: 1500\n",
      "O custo da empresa é: 1000\n",
      "O lucro da empresa é: 500.0\n"
     ]
    }
   ],
   "source": [
    "faturamento = input(\"Insira o faturamento da empresa? \")\n",
    "print(\"O faturamento da empresa é: \" + faturamento)\n",
    "custo = input(\"Insira o custo da empresa? \")\n",
    "print(\"O custo da empresa é: \" + custo)\n",
    "print(\"O lucro da empresa é: \" + str(float(faturamento) - float(custo)))\n"
   ]
  }
 ],
 "metadata": {
  "kernelspec": {
   "display_name": "Python 3",
   "language": "python",
   "name": "python3"
  },
  "language_info": {
   "codemirror_mode": {
    "name": "ipython",
    "version": 3
   },
   "file_extension": ".py",
   "mimetype": "text/x-python",
   "name": "python",
   "nbconvert_exporter": "python",
   "pygments_lexer": "ipython3",
   "version": "3.13.7"
  }
 },
 "nbformat": 4,
 "nbformat_minor": 5
}
